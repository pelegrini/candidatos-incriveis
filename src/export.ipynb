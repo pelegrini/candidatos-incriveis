{
 "cells": [
  {
   "cell_type": "code",
   "execution_count": 1,
   "id": "19fef69d-a603-4b14-b073-e0aa6ec65cac",
   "metadata": {},
   "outputs": [],
   "source": [
    "import pandas as pd\n",
    "import numpy as np"
   ]
  },
  {
   "cell_type": "code",
   "execution_count": 2,
   "id": "6acee386-7aed-41ce-9b3f-9ff1a5d8f4df",
   "metadata": {},
   "outputs": [],
   "source": [
    "arquivo = '..\\\\assets\\\\candidaturas.xlsx'"
   ]
  },
  {
   "cell_type": "code",
   "execution_count": 4,
   "id": "5a76cbc8-700e-4975-8896-f4fe6ec18376",
   "metadata": {
    "tags": []
   },
   "outputs": [
    {
     "name": "stderr",
     "output_type": "stream",
     "text": [
      "D:\\Apps\\anaconda3\\envs\\notebooks\\lib\\site-packages\\openpyxl\\worksheet\\_reader.py:312: UserWarning: Conditional Formatting extension is not supported and will be removed\n",
      "  warn(msg)\n",
      "D:\\Apps\\anaconda3\\envs\\notebooks\\lib\\site-packages\\openpyxl\\worksheet\\_reader.py:312: UserWarning: Data Validation extension is not supported and will be removed\n",
      "  warn(msg)\n"
     ]
    }
   ],
   "source": [
    "tipos = {'Site': np.str_}\n",
    "# TODO dtype?\n",
    "candidaturas_df = pd.read_excel(arquivo, sheet_name='Candidatos', skiprows=1)\n",
    "candidaturas_df = candidaturas_df.iloc[:,1:]"
   ]
  },
  {
   "cell_type": "code",
   "execution_count": 5,
   "id": "306c502e-151e-4161-ae56-74ed3eb3df45",
   "metadata": {},
   "outputs": [],
   "source": [
    "partidos_md = {\n",
    "    'PCB': '![PCB](https://img.shields.io/badge/-PCB-red)',\n",
    "    'PSOL': '![PSOL](https://img.shields.io/badge/-PSOL-orange)',\n",
    "    'UP': '![UP](https://img.shields.io/badge/-UP-black)',\n",
    "    'PT': '![PT](https://img.shields.io/badge/-PT-purple)',\n",
    "}"
   ]
  },
  {
   "cell_type": "code",
   "execution_count": 6,
   "id": "71ae4e5f-b25a-4b08-a9f7-4b2744e55730",
   "metadata": {},
   "outputs": [],
   "source": [
    "'''\n",
    "- [Joana da Silva](#) **#99 9** - Pré-candidata a senadora na BA, militante do PCB, Prof. da UEFS. <sub>![PCB](https://img.shields.io/badge/-PCB-red) ![Twitter](assets/icons8-twitter.svg) ![Instagram](assets/icons8-instagram.svg) ![Facebook](assets/icons8-facebook-novo.svg)</sub>\n",
    "- <sub> ![Twitter](assets/icons8-twitter.svg) ![Instagram](assets/icons8-instagram.svg) ![Facebook](assets/icons8-facebook-novo.svg)</sub>\n",
    "'''\n",
    "\n",
    "def get_link_md(link):\n",
    "    if pd.isnull(link):\n",
    "        return ''\n",
    "    if 'twitter.com' in link:\n",
    "        return f' [![Twitter](assets/icons8-twitter.svg)]({link})'\n",
    "    if 'instagram.com' in link:\n",
    "        return f' [![Instagram](assets/icons8-instagram.svg)]({link})'\n",
    "    if 'facebook.com' in link:\n",
    "        return f' [![Facebook](assets/icons8-facebook-novo.svg)]({link})'\n",
    "    # TODO Outro Link\n",
    "    return ''\n",
    "\n",
    "def get_candidato_texto(linha):\n",
    "    nome = linha['Nome']\n",
    "    \n",
    "    links_possiveis = [linha['Site'], linha['Twitter'], linha['Instagram'], linha['Facebook'], linha['Outro Link']]\n",
    "    link = next(lnk for lnk in links_possiveis if not pd.isnull(lnk))\n",
    "    \n",
    "    descricao = linha['Descrição']\n",
    "    partido = partidos_md[linha['Partido']]\n",
    "    links = ''.join(get_link_md(lnk) for lnk in links_possiveis)\n",
    "    \n",
    "    item_md = f'- [{nome}]({link}) - {descricao} <sub>{partido}{links}</sub>'\n",
    "    \n",
    "    return item_md"
   ]
  },
  {
   "cell_type": "code",
   "execution_count": 51,
   "id": "768aa6c4-2888-494e-a26b-4450b1566fc3",
   "metadata": {
    "tags": []
   },
   "outputs": [],
   "source": [
    "def get_indice_md(df):\n",
    "    indice_md = '''\n",
    "--------------------\n",
    "\n",
    "## Conteúdo\n",
    "\n",
    "'''\n",
    "    for grupo_estado in df.groupby('Estado'):\n",
    "        estado = grupo_estado[0]\n",
    "        slug = estado.lower().replace(' ', '-')\n",
    "        indice_md += f'- [{estado}](#{slug})\\n'\n",
    "    return indice_md"
   ]
  },
  {
   "cell_type": "code",
   "execution_count": 52,
   "id": "17834941-5d8d-48bb-b37a-bf0fba2c23ef",
   "metadata": {},
   "outputs": [
    {
     "name": "stdout",
     "output_type": "stream",
     "text": [
      "\n",
      "--------------------\n",
      "\n",
      "## Conteúdo\n",
      "\n",
      "- [Bahia](#bahia)\n",
      "- [Ceará](#ceará)\n",
      "- [Distrito Federal](#distrito-federal)\n",
      "- [Espírito Santo](#espírito-santo)\n",
      "- [Goiás](#goiás)\n",
      "- [Maranhão](#maranhão)\n",
      "- [Minas Gerais](#minas-gerais)\n",
      "- [Pernambuco](#pernambuco)\n",
      "- [Rio Grande do Norte](#rio-grande-do-norte)\n",
      "- [Rio Grande do Sul](#rio-grande-do-sul)\n",
      "- [Rio de Janeiro](#rio-de-janeiro)\n",
      "- [São Paulo](#são-paulo)\n",
      "\n"
     ]
    }
   ],
   "source": [
    "print(get_indice_md(candidaturas_df))"
   ]
  },
  {
   "cell_type": "code",
   "execution_count": 55,
   "id": "09e866c5-550c-4f9f-93dd-4ba5e909b5df",
   "metadata": {},
   "outputs": [],
   "source": [
    "def get_candidaturas_md(df):\n",
    "    candidaturas_md = '''--------------------\n",
    "'''\n",
    "    df = df.sort_values(by=['Estado', 'Órgão', 'Destaque', 'Nome'])\n",
    "    \n",
    "    for grupo_estado in df.groupby('Estado'):\n",
    "        candidaturas_md += f'\\n## {grupo_estado[0]}\\n'\n",
    "        for grupo_cargo in grupo_estado[1].groupby('Órgão'):\n",
    "            candidaturas_md += f'\\n### {grupo_cargo[0]}\\n'\n",
    "            candidaturas_md += '**[`^        voltar ao início        ^`](#conteúdo)**\\n'\n",
    "            df_candidato = grupo_cargo[1]\n",
    "    \n",
    "            for i, candidato in df_candidato.iterrows():\n",
    "                candidaturas_md += f'{get_candidato_texto(candidato)}\\n'\n",
    "    return candidaturas_md\n"
   ]
  },
  {
   "cell_type": "code",
   "execution_count": 58,
   "id": "5aa0585a-bc96-4196-ad56-98de6515f7e6",
   "metadata": {},
   "outputs": [
    {
     "name": "stdout",
     "output_type": "stream",
     "text": [
      "--------------------\n",
      "\n",
      "## Bahia\n",
      "\n",
      "### Câmara dos Deputados\n",
      "**[`^        voltar ao início        ^`](#conteúdo)**\n",
      "- [João Coimbra](https://twitter.com/coimbrasousa/) - Negro. Comunista. Pré-Candidato a Dep. Fed. pelo PCB/BA. Advogado Criminalista. Mestre em Direito pela @ASU. Doutorando em Estudos Africanos na @UFBA <sub>![PCB](https://img.shields.io/badge/-PCB-red) [![Twitter](assets/icons8-twitter.svg)](https://twitter.com/coimbrasousa/) [![Instagram](assets/icons8-instagram.svg)](https://www.instagram.com/coimbrasousa/)</sub>\n",
      "- [Ana Karen](https://twitter.com/anakaren_pcb) - Pré - candidata a deputada federal na BA, militante do PCB, Sec. Política do Col. Feminista Classista Ana Montenegro, Médica, Prof. da UEFS <sub>![PCB](https://img.shields.io/badge/-PCB-red) [![Twitter](assets/icons8-twitter.svg)](https://twitter.com/anakaren_pcb)</sub>\n",
      "- [Cheyenne Ayalla](https://twitter.com/Ayalla99) - Marxista-leninista | Militante da UJC e PCB 🚩 <sub>![PCB](https://img.shields.io/badge/-PCB-red) [![Twitter](assets/icons8-twitter.svg)](https://twitter.com/Ayalla99) [![Instagram](assets/icons8-instagram.svg)](https://www.instagram.com/ayalla30/)</sub>\n",
      "- [Eslane Paixão](https://linktr.ee/EslanePaixaoUP) - Presidenta Estadual da UP <sub>![UP](https://img.shields.io/badge/-UP-black) [![Twitter](assets/icons8-twitter.svg)](https://twitter.com/EslanePaixaoUP) [![Facebook](assets/icons8-facebook-novo.svg)](https://www.facebook.com/eslanepaixaoup)</sub>\n",
      "- [Inês Melgaço](https://twitter.com/InesMelgaco) - Pré-candidata a deputada federal pelo PCB ▪️ Artista ▪️ Militante do PCB <sub>![PCB](https://img.shields.io/badge/-PCB-red) [![Twitter](assets/icons8-twitter.svg)](https://twitter.com/InesMelgaco)</sub>\n",
      "\n",
      "## Ceará\n",
      "\n",
      "### Câmara dos Deputados\n",
      "**[`^        voltar ao início        ^`](#conteúdo)**\n",
      "- [Sued Carvalho](https://www.instagram.com/suedcarvalhoup/) - ✊🏻 Pré-candidata à Deputada Federal 👩🏻‍🏫 Professora e Historiadora 🆙 Militante da Unidade Popular <sub>![UP](https://img.shields.io/badge/-UP-black) [![Instagram](assets/icons8-instagram.svg)](https://www.instagram.com/suedcarvalhoup/)</sub>\n",
      "\n",
      "## Distrito Federal\n",
      "\n",
      "### Câmara dos Deputados\n",
      "**[`^        voltar ao início        ^`](#conteúdo)**\n",
      "- [Ruth Venceremos](https://ruthvenceremos.financie.de) - 💋Drag Queen 🏳️‍🌈 Ativista 💃🏾 Diretora do @distritodrag ✊🏾Pré-candidata a deputada federal pelo @ptbrasil <sub>![PT](https://img.shields.io/badge/-PT-purple) [![Twitter](assets/icons8-twitter.svg)](https://twitter.com/RuthVenceremos)</sub>\n",
      "\n",
      "## Espírito Santo\n",
      "\n",
      "### Câmara dos Deputados\n",
      "**[`^        voltar ao início        ^`](#conteúdo)**\n",
      "- [Lucas Costa](https://twitter.com/lucattzo) - 📚Estudante de Serviço Social | 🚩Pré-candidato a Dep. Federal pelo PCB-ES <sub>![PCB](https://img.shields.io/badge/-PCB-red) [![Twitter](assets/icons8-twitter.svg)](https://twitter.com/lucattzo)</sub>\n",
      "\n",
      "## Goiás\n",
      "\n",
      "### Assembleia Legislativa\n",
      "**[`^        voltar ao início        ^`](#conteúdo)**\n",
      "- [Letícia Scalabrini](https://linktr.ee/leticia_scalabrini) - Ciências Sociais UFG | Coord. Geral do DCE UFG | Diretora de Universidades Públicas UEE GO | Unidade Popular - UP <sub>![UP](https://img.shields.io/badge/-UP-black) [![Twitter](assets/icons8-twitter.svg)](https://twitter.com/ScalabriniLtcia) [![Instagram](assets/icons8-instagram.svg)](https://www.instagram.com/leticiascalabriniup/) [![Facebook](assets/icons8-facebook-novo.svg)](https://www.facebook.com/leticiascalabriniupgo/)</sub>\n",
      "\n",
      "### Câmara dos Deputados\n",
      "**[`^        voltar ao início        ^`](#conteúdo)**\n",
      "- [Arthur Ramos](https://twitter.com/arthurramospcb) - 📚Estudante de história no IFG 🚩Militante da UJC/PCB e Diretor Executivo de Assistência Estudantil da UEE Goiás <sub>![PCB](https://img.shields.io/badge/-PCB-red) [![Twitter](assets/icons8-twitter.svg)](https://twitter.com/arthurramospcb)</sub>\n",
      "\n",
      "## Maranhão\n",
      "\n",
      "### Câmara dos Deputados\n",
      "**[`^        voltar ao início        ^`](#conteúdo)**\n",
      "- [Caetano da Costa](https://twitter.com/CaetanoCosta15) - Pré-candidato a Deputado Federal pelo @pcbmaranhao <sub>![PCB](https://img.shields.io/badge/-PCB-red) [![Twitter](assets/icons8-twitter.svg)](https://twitter.com/CaetanoCosta15)</sub>\n",
      "\n",
      "## Minas Gerais\n",
      "\n",
      "### Câmara dos Deputados\n",
      "**[`^        voltar ao início        ^`](#conteúdo)**\n",
      "- [Flaviano Dueli](https://www.instagram.com/flavianodueli_adv/) - Flaviano Dueli Advocacia e Consultoria | Pré-Candidato Deputado Federal - PCB <sub>![PCB](https://img.shields.io/badge/-PCB-red) [![Instagram](assets/icons8-instagram.svg)](https://www.instagram.com/flavianodueli_adv/)</sub>\n",
      "- [Júlia Rocha](https://twitter.com/juliarochasim) - Pré candidata a Dep. Federal. Cantora,médica,escritora.Finalista do Prêmio Jabuti 🐢 2021. Militante no @pcbpartidao ☭ . Vegana e mineira de Beagá. <sub>![PCB](https://img.shields.io/badge/-PCB-red) [![Twitter](assets/icons8-twitter.svg)](https://twitter.com/juliarochasim)</sub>\n",
      "- [Lívia Flor](https://www.instagram.com/liviaincendialapradera/?igshid=YmMyMTA2M2Y=) - Pré-candidata à deputada federal pelo PCB. Trabalhadora da educação, sindicalista e comunista organizada ☭🏳️‍🌈🌸 <sub>![PCB](https://img.shields.io/badge/-PCB-red) [![Instagram](assets/icons8-instagram.svg)](https://www.instagram.com/liviaincendialapradera/?igshid=YmMyMTA2M2Y=)</sub>\n",
      "- [Margô Inácio](https://twitter.com/margoinacio_) - MC, cantora e compositora. Secretária política da UJC Fabriciano, pré-candidata a DEPUTADA FEDERAL pelo @Pcbpartidao @VozesDaRev <sub>![PCB](https://img.shields.io/badge/-PCB-red) [![Twitter](assets/icons8-twitter.svg)](https://twitter.com/margoinacio_)</sub>\n",
      "- [Nina Espaguete](https://twitter.com/EspaguetePCB) - Travesti Comunista, Vegana e Católica/Militante e Pré-candidata a Deputada Federal de MG do @PCBpartidao / | Pelo Fim da Família e a construção do socialismo 🚩🚩 <sub>![PCB](https://img.shields.io/badge/-PCB-red) [![Twitter](assets/icons8-twitter.svg)](https://twitter.com/EspaguetePCB)</sub>\n",
      "- [Thomás Carrieri](https://twitter.com/camarada_thomas) - Estudante de matemática na UFMG | Futuro Professor | Militante da União da Juventude Comunista e do Partidão <sub>![PCB](https://img.shields.io/badge/-PCB-red) [![Twitter](assets/icons8-twitter.svg)](https://twitter.com/camarada_thomas)</sub>\n",
      "\n",
      "## Pernambuco\n",
      "\n",
      "### Assembleia Legislativa\n",
      "**[`^        voltar ao início        ^`](#conteúdo)**\n",
      "- [Ludmila Outtes](https://twitter.com/ludouttes) - Presidente do Sindicato dos Enfermeiros de Pernambuco / Militante do MLC e da Unidade Popular. <sub>![UP](https://img.shields.io/badge/-UP-black) [![Twitter](assets/icons8-twitter.svg)](https://twitter.com/ludouttes) [![Instagram](assets/icons8-instagram.svg)](https://www.instagram.com/ludouttes/)</sub>\n",
      "- [Luiza Melo](https://twitter.com/luizamelopcb) - Pré candidata a Deputada Estadual - PCB-PE - Terapeuta Ocupacional e Trabalhadora do SUS/ Sindicalista no SINFITO PE <sub>![PCB](https://img.shields.io/badge/-PCB-red) [![Twitter](assets/icons8-twitter.svg)](https://twitter.com/luizamelopcb)</sub>\n",
      "- [Natalia Lúcia](https://www.instagram.com/natalialucia.up/) - Pré-candidata Deputada Estadual pela @unidadepopularpe | Coordenação @movimento_de_luta_nos_bairros | Coordenação @movimentoolga.pe <sub>![UP](https://img.shields.io/badge/-UP-black) [![Instagram](assets/icons8-instagram.svg)](https://www.instagram.com/natalialucia.up/)</sub>\n",
      "- [Rosa Amorim](https://linktr.ee/rosamst) - Pré-candidata a deputada estadual em Pernambuco, crescida nas fileiras do MST. militante do Levante Popular da Juventude e Diretora de Cultura da UM <sub>![PT](https://img.shields.io/badge/-PT-purple) [![Twitter](assets/icons8-twitter.svg)](https://twitter.com/rosamst) [![Instagram](assets/icons8-instagram.svg)](https://www.instagram.com/rosamst_/)</sub>\n",
      "\n",
      "### Câmara dos Deputados\n",
      "**[`^        voltar ao início        ^`](#conteúdo)**\n",
      "- [Victória Pinheiro](https://twitter.com/victoriaujc) - Diretora de Relações Internacionais da UNE, milito pela UJC e PCB, estudo biomedicina na UFPE e estou como pré-candidata a deputada federal em Pernambuco <sub>![PCB](https://img.shields.io/badge/-PCB-red) [![Twitter](assets/icons8-twitter.svg)](https://twitter.com/victoriaujc)</sub>\n",
      "\n",
      "## Rio Grande do Norte\n",
      "\n",
      "### Senado\n",
      "**[`^        voltar ao início        ^`](#conteúdo)**\n",
      "- [Samara Martins](https://twitter.com/samaramartinsup) - Mulher negra e feminista. Servidora pública do SUS. Vice-presidenta da Unidade Popular Pelo Socialismo e pré-candidata ao senado no RN <sub>![UP](https://img.shields.io/badge/-UP-black) [![Twitter](assets/icons8-twitter.svg)](https://twitter.com/samaramartinsup) [![Instagram](assets/icons8-instagram.svg)](https://www.instagram.com/samaramartinsup/)</sub>\n",
      "\n",
      "## Rio Grande do Sul\n",
      "\n",
      "### Câmara dos Deputados\n",
      "**[`^        voltar ao início        ^`](#conteúdo)**\n",
      "- [Humberto Matos](https://twitter.com/H1SaiaDaMatrix) - Professor de História, apaixonado por economia, educador popular, militante marxista organizado no PSOL e comunicador socialista no YouTube  <sub>![PSOL](https://img.shields.io/badge/-PSOL-orange) [![Twitter](assets/icons8-twitter.svg)](https://twitter.com/H1SaiaDaMatrix)</sub>\n",
      "\n",
      "## Rio de Janeiro\n",
      "\n",
      "### Assembleia Legislativa\n",
      "**[`^        voltar ao início        ^`](#conteúdo)**\n",
      "- [Marina dos Santos - MST](https://linklist.bio/marinadomst) - Mulher, mãe, Sem Terra. Marina dos Santos, dirigente nacional do MST, Pré-candidata a Deputada Estadual pelo PT-RJ. <sub>![PT](https://img.shields.io/badge/-PT-purple) [![Twitter](assets/icons8-twitter.svg)](https://twitter.com/marinadomst)</sub>\n",
      "- [Nathália Mozer](https://linktr.ee/nathaliamozer) - Trabalhadora, historiadora, feminista e militante do PCB. <sub>![PCB](https://img.shields.io/badge/-PCB-red) [![Twitter](assets/icons8-twitter.svg)](https://twitter.com/Nathalia__Mozer)</sub>\n",
      "\n",
      "### Câmara dos Deputados\n",
      "**[`^        voltar ao início        ^`](#conteúdo)**\n",
      "- [Gabriel Marques](https://twitter.com/gabrimarquespcb) - Gabriel Marques, professor, pré-candidato a deputado federal pelo PCB RJ <sub>![PCB](https://img.shields.io/badge/-PCB-red) [![Twitter](assets/icons8-twitter.svg)](https://twitter.com/gabrimarquespcb)</sub>\n",
      "- [Glauber Braga](https://twitter.com/Glauber_Braga) - Militante Socialista! Deputado federal reeleito pelo PSOL/RJ. É tempo de coragem! <sub>![PSOL](https://img.shields.io/badge/-PSOL-orange) [![Twitter](assets/icons8-twitter.svg)](https://twitter.com/Glauber_Braga)</sub>\n",
      "- [Gustavo Pedro](https://twitter.com/GustavoPedroPCB) - 🚩 Manter a cabeça fria e o coração quente! 🔥 | Pré-candidato a deputado federal pelo PCB/RJ | 🎓cientista político (unirio) / mestre em ciências sociais (ufrrj)🎓 <sub>![PCB](https://img.shields.io/badge/-PCB-red) [![Twitter](assets/icons8-twitter.svg)](https://twitter.com/GustavoPedroPCB)</sub>\n",
      "- [Mariana Nogueira](https://twitter.com/MariNogueira___) - Professora e pesquisadora (Fiocruz). Pré-candidata a dep.federal PCB-RJ, Conselho Comunitário de Manguinhos. Em defesa do SUS, do poder popular e do socialismo! <sub>![PCB](https://img.shields.io/badge/-PCB-red) [![Twitter](assets/icons8-twitter.svg)](https://twitter.com/MariNogueira___)</sub>\n",
      "- [Tarcísio Motta](https://twitter.com/MottaTarcisio) - Historiador, professor do Colégio Pedro II, vereador mais votado na cidade do Rio de Janeiro, pré-candidato a deputado federal. <sub>![PSOL](https://img.shields.io/badge/-PSOL-orange) [![Twitter](assets/icons8-twitter.svg)](https://twitter.com/MottaTarcisio)</sub>\n",
      "\n",
      "## São Paulo\n",
      "\n",
      "### Assembleia Legislativa\n",
      "**[`^        voltar ao início        ^`](#conteúdo)**\n",
      "- [Amanda Bispo](https://twitter.com/amandabispoup) - Pré candidata a Deputada Estadual pela Unidade Popular <sub>![UP](https://img.shields.io/badge/-UP-black) [![Twitter](assets/icons8-twitter.svg)](https://twitter.com/amandabispoup) [![Instagram](assets/icons8-instagram.svg)](https://www.instagram.com/amandabispo.up/)</sub>\n",
      "- [Ediane Maria - MTST](https://twitter.com/EdianeMariaMTST) - ✒️ Pré-candidata a deputada estadual em SP | ✊🏾 Mulher preta, periférica, LGBT, nordestina e mãe de 4 filhos | 🚩 Coordenadora do MTST e Raíz da Liberdade <sub>![PSOL](https://img.shields.io/badge/-PSOL-orange) [![Twitter](assets/icons8-twitter.svg)](https://twitter.com/EdianeMariaMTST)</sub>\n",
      "- [Felipe Queiroz](https://twitter.com/FelipeOQueiroz) - Cultura Geral, Geografia, Serviço Social, Meio Ambiente, Esperanto, Jogo do Pau Português, Educação, Política. Pré-candidato a deputado estadual pelo PCB-SP. <sub>![PCB](https://img.shields.io/badge/-PCB-red) [![Twitter](assets/icons8-twitter.svg)](https://twitter.com/FelipeOQueiroz)</sub>\n",
      "- [Gabriel Tavares](https://twitter.com/GTavaresPCB) - 🚩pré-candidato a deputado estadual em SP pelo PCB 📚 professor e licenciando em ciências sociais <sub>![PCB](https://img.shields.io/badge/-PCB-red) [![Twitter](assets/icons8-twitter.svg)](https://twitter.com/GTavaresPCB)</sub>\n",
      "\n",
      "### Câmara dos Deputados\n",
      "**[`^        voltar ao início        ^`](#conteúdo)**\n",
      "- [Beatriz Barbiere](https://twitter.com/beatrizbarbiere) - Pré-candidata a Deputada Federal em São Paulo Diretora de Universidades Públicas do CES, estudante de Psicologia na UNIFESP e militante da UJC e do PCB <sub>![PCB](https://img.shields.io/badge/-PCB-red) [![Twitter](assets/icons8-twitter.svg)](https://twitter.com/beatrizbarbiere)</sub>\n",
      "- [Camilo Terra](https://twitter.com/PcbCamiloTerra) - Caiçara,  militante social e comunista. <sub>![PCB](https://img.shields.io/badge/-PCB-red) [![Twitter](assets/icons8-twitter.svg)](https://twitter.com/PcbCamiloTerra)</sub>\n",
      "- [Eduardo Real](https://twitter.com/depeduardoreal) - Pré-candidato à Deputado Federal <sub>![PCB](https://img.shields.io/badge/-PCB-red) [![Twitter](assets/icons8-twitter.svg)](https://twitter.com/depeduardoreal) [![Facebook](assets/icons8-facebook-novo.svg)](https://www.facebook.com/eduardorealpcb/)</sub>\n",
      "- [Gabriel Marucci](https://twitter.com/gabmarucci_pcb) - Pré-candidato à Deputado Federal pelo @PCBpartidao em SP • Advogado, professor voluntário e comunista <sub>![PCB](https://img.shields.io/badge/-PCB-red) [![Twitter](assets/icons8-twitter.svg)](https://twitter.com/gabmarucci_pcb)</sub>\n",
      "- [Guilherme Boulos](https://twitter.com/GuilhermeBoulos) - Professor, coordenador do MTST e da Frente Povo Sem Medo. Foi candidato do PSOL à Presidência da República e à Prefeitura de São Paulo. <sub>![PSOL](https://img.shields.io/badge/-PSOL-orange) [![Twitter](assets/icons8-twitter.svg)](https://twitter.com/GuilhermeBoulos)</sub>\n",
      "- [Isis Mustafa](https://twitter.com/isismustafaup) - Secretária-Geral da UNE. Pré-candidata à Deputada Federal @UP80BR <sub>![UP](https://img.shields.io/badge/-UP-black) [![Twitter](assets/icons8-twitter.svg)](https://twitter.com/isismustafaup)</sub>\n",
      "- [Max Marianek](https://twitter.com/MarianekMax) - Graduado em História, funcionário público, militante do PCB, colunista do Imprensa ABC.  | Pré-Candidato a Deputado Federal pelo PCB em SP. <sub>![PCB](https://img.shields.io/badge/-PCB-red) [![Twitter](assets/icons8-twitter.svg)](https://twitter.com/MarianekMax)</sub>\n",
      "- [Raquel Luxemburgo](https://twitter.com/raqueluxemburgo) - Pré-candidata à Deputada Federal pelo PCB-SP e Secretária-Geral da ANPG <sub>![PCB](https://img.shields.io/badge/-PCB-red) [![Twitter](assets/icons8-twitter.svg)](https://twitter.com/raqueluxemburgo)</sub>\n",
      "\n",
      "### Senado\n",
      "**[`^        voltar ao início        ^`](#conteúdo)**\n",
      "- [Prof. Tito](https://twitter.com/titobellini) - Santista, Itanhaense, francano. Pré-candidato ao Senado pelo PCB. Militante comunista.  Pai da Flor. Historiador. <sub>![PCB](https://img.shields.io/badge/-PCB-red) [![Twitter](assets/icons8-twitter.svg)](https://twitter.com/titobellini) [![Facebook](assets/icons8-facebook-novo.svg)](https://www.facebook.com/titopcb/)</sub>\n",
      "- [Vivian Mendes](https://vivianmendesup.financie.de) - Pré-candidata ao Senado pela Unidade Popular pelo Socialismo e Membro da Comissão de Familiares de Mortos e Desaparecidos da Ditadura. <sub>![UP](https://img.shields.io/badge/-UP-black) [![Instagram](assets/icons8-instagram.svg)](https://www.instagram.com/vivianmendes.oficial/)</sub>\n",
      "\n"
     ]
    }
   ],
   "source": [
    "print(get_candidaturas_md(candidaturas_df))"
   ]
  },
  {
   "cell_type": "code",
   "execution_count": null,
   "id": "0130795c-a8a5-48e7-a184-63c6c66fc95e",
   "metadata": {
    "tags": []
   },
   "outputs": [],
   "source": []
  },
  {
   "cell_type": "code",
   "execution_count": null,
   "id": "a026c69e-c15e-46fa-83fa-abdce34b08e9",
   "metadata": {},
   "outputs": [],
   "source": []
  },
  {
   "cell_type": "code",
   "execution_count": null,
   "id": "27c41ad0-cdd8-496d-8db8-521f02a99a15",
   "metadata": {},
   "outputs": [],
   "source": []
  }
 ],
 "metadata": {
  "kernelspec": {
   "display_name": "Python 3 (ipykernel)",
   "language": "python",
   "name": "python3"
  },
  "language_info": {
   "codemirror_mode": {
    "name": "ipython",
    "version": 3
   },
   "file_extension": ".py",
   "mimetype": "text/x-python",
   "name": "python",
   "nbconvert_exporter": "python",
   "pygments_lexer": "ipython3",
   "version": "3.10.4"
  }
 },
 "nbformat": 4,
 "nbformat_minor": 5
}
